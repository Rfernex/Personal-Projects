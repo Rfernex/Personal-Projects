{
 "cells": [
  {
   "cell_type": "code",
   "execution_count": null,
   "id": "ad8e77ca",
   "metadata": {},
   "outputs": [],
   "source": [
    "import pandas as pd # calls the chart\n",
    "deathcause = pd.read_csv(\"./cause_of_deaths.csv\")\n",
    "display(deathcause)"
   ]
  },
  {
   "cell_type": "code",
   "execution_count": null,
   "id": "9c0e155d",
   "metadata": {},
   "outputs": [],
   "source": [
    "deathcausebyyear = deathcause.groupby(\"Country/Territory\").mean() # groups data by country in rows using the mean function \n",
    "display(deathcausebyyear)"
   ]
  },
  {
   "cell_type": "code",
   "execution_count": null,
   "id": "60a086d3",
   "metadata": {
    "scrolled": true
   },
   "outputs": [],
   "source": [
    "OECD = [\"Austria\",\"Belgium\", \"Canada\", \"Denmark\", \"France\", \"United States\", \"Germany\", \"Greece\"\n",
    "       , \"Iceland\", \"Ireland\", \"Italy\", \"Luxembourg\", \"Portugal\", \"Spain\", \"Sweden\", \"Switzerland\",\n",
    "       \"Turkey\", \"United Kingdom\", \"China\"]\n",
    "OECD_chart = deathcausebyyear.loc[OECD,:] #creates a definition for the OECD group\n",
    "OECD_chart"
   ]
  },
  {
   "cell_type": "code",
   "execution_count": null,
   "id": "ed25693d",
   "metadata": {
    "scrolled": true
   },
   "outputs": [],
   "source": [
    "OECD_chart.reset_index(inplace=True)\n",
    "OECD_chart.drop([\"Country/Territory\",\"Year\"], inplace=True, axis=1) \n",
    "OECD_chart  #keeps only data related to OECD countries "
   ]
  },
  {
   "cell_type": "code",
   "execution_count": null,
   "id": "c36cbe2a",
   "metadata": {},
   "outputs": [],
   "source": [
    "infectious_diseases_deaths = [\"Malaria\", \"HIV/AIDS\", \"Tuberculosis\", \"Lower Respiratory Infections\", \"Diarrheal Diseases\", \"Acute Hepatitis\"] \n",
    "noninfectious_diseases_deaths = [\"Alzheimer's Disease and Other Dementias\",\"Parkinson's Disease\", \"Cardiovascular Diseases\", \"Neoplasms\", \n",
    "                                 \"Diabetes Mellitus\", \"Chronic Kidney Disease\", \"Chronic Respiratory Diseases\",\n",
    "                                 \"Cirrhosis and Other Chronic Liver Diseases\", \"Digestive Diseases\"]\n",
    "other = [\"Nutritional Deficiencies\", \"Drowning\", \"Interpersonal Violence\", \"Maternal Disorders\", \n",
    "         \"Drug Use Disorders\", \"Alcohol Use Disorders\", \"Self-harm\", \"Exposure to Forces of Nature\", \n",
    "         \"Environmental Heat and Cold Exposure\", \"Conflict and Terrorism\", \"Poisonings\", \"Protein-Energy Malnutrition\", \n",
    "         \"Road Injuries\", \"Fire, Heat, and Hot Substances\"] \n",
    "idd = OECD_chart.loc[:,infectious_diseases_deaths]\n",
    "nidd = OECD_chart.loc[:,noninfectious_diseases_deaths] #category definition for infectious, non infectious diseases and other \n",
    "otherd = OECD_chart.loc[:,other]\n",
    "OECD_chart[\"total deaths due to infectious diseases\"]=idd.sum(axis=1)\n",
    "OECD_chart[\"total deaths due to non-infectious diseases\"]=nidd.sum(axis=1)\n",
    "OECD_chart[\"total deaths not due to any disease \"]=otherd.sum(axis=1)\n",
    "display(OECD_chart) #groups data based on the previously defined categories "
   ]
  },
  {
   "cell_type": "code",
   "execution_count": null,
   "id": "5db7efb0",
   "metadata": {},
   "outputs": [],
   "source": [
    "sumbase = [\"total deaths due to infectious diseases\", \"total deaths due to non-infectious diseases\", \"total deaths not due to any disease \"]   #add total death column\n",
    "OECD_chart[\"total deaths\"]=OECD_chart.loc[:,sumbase].sum(axis=1)\n",
    "display(OECD_chart) #calculates the total number of death for each category"
   ]
  },
  {
   "cell_type": "code",
   "execution_count": null,
   "id": "b3e62e37",
   "metadata": {
    "scrolled": true
   },
   "outputs": [],
   "source": [
    "OECD_chart['percentage of deaths due to infectious diseases'] = OECD_chart[\"total deaths due to infectious diseases\"]/OECD_chart[\"total deaths\"]\n",
    "OECD_chart['percentage of deaths due to non infectious diseases'] = OECD_chart[\"total deaths due to non-infectious diseases\"]/OECD_chart[\"total deaths\"]\n",
    "OECD_chart['percentage of deaths not due to any diseases'] = 1-OECD_chart['percentage of deaths due to non infectious diseases']-OECD_chart['percentage of deaths due to infectious diseases']\n",
    "display(OECD_chart) #calculates the weight of each death cause category\n"
   ]
  },
  {
   "cell_type": "code",
   "execution_count": null,
   "id": "b782bfc6",
   "metadata": {},
   "outputs": [],
   "source": [
    "OECD_chartf = OECD_chart.mean(axis=0)\n",
    "print(OECD_chartf)"
   ]
  },
  {
   "cell_type": "code",
   "execution_count": null,
   "id": "197b8ee5",
   "metadata": {
    "scrolled": true
   },
   "outputs": [],
   "source": [
    "used_data = OECD_chartf.tail(3)\n",
    "used_data"
   ]
  },
  {
   "cell_type": "code",
   "execution_count": null,
   "id": "ebbb6a4f",
   "metadata": {},
   "outputs": [],
   "source": [
    "import matplotlib.pyplot as plt\n",
    "\n",
    "# Pie chart, where the slices will be ordered and plotted counter-clockwise:\n",
    "labels = 'Infectious diseases', 'Non infectious diseases', 'Other'\n",
    "sizes = [used_data.iat[0],used_data.iat[1],used_data.iat[2]]\n",
    "explode = (0, 0.1, 0)  # only \"explode\" the 2nd slice (i.e. 'Hogs')\n",
    "\n",
    "fig1, ax1 = plt.subplots()\n",
    "ax1.pie(sizes, explode=explode, labels=labels, autopct='%1.1f%%',\n",
    "        shadow=True, startangle=90)\n",
    "ax1.axis('equal')  # Equal aspect ratio ensures that pie is drawn as a circle.\n",
    "\n",
    "plt.title('Main causes of death amongst OECD countries')\n",
    "plt.show()"
   ]
  },
  {
   "cell_type": "code",
   "execution_count": null,
   "id": "73d79583",
   "metadata": {},
   "outputs": [],
   "source": []
  }
 ],
 "metadata": {
  "kernelspec": {
   "display_name": "Python 3 (ipykernel)",
   "language": "python",
   "name": "python3"
  },
  "language_info": {
   "codemirror_mode": {
    "name": "ipython",
    "version": 3
   },
   "file_extension": ".py",
   "mimetype": "text/x-python",
   "name": "python",
   "nbconvert_exporter": "python",
   "pygments_lexer": "ipython3",
   "version": "3.9.13"
  }
 },
 "nbformat": 4,
 "nbformat_minor": 5
}
