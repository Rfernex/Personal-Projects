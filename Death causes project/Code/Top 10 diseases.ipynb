{
 "cells": [
  {
   "cell_type": "code",
   "execution_count": null,
   "id": "e4090f5a",
   "metadata": {},
   "outputs": [],
   "source": [
    "import pandas as pd # calls the chart\n",
    "deathcause = pd.read_csv(\"./cause_of_deaths.csv\")\n"
   ]
  },
  {
   "cell_type": "code",
   "execution_count": null,
   "id": "7de325e7",
   "metadata": {},
   "outputs": [],
   "source": [
    "endcolumn = len(deathcause) #add total death column\n",
    "deathcause[\"total deaths\"]=deathcause.iloc[:,3:endcolumn].sum(axis=1)\n",
    "display(deathcause)"
   ]
  },
  {
   "cell_type": "code",
   "execution_count": null,
   "id": "4c5d2e65",
   "metadata": {},
   "outputs": [],
   "source": [
    "deathcause.drop([\"Country/Territory\",\"Code\"], inplace=True, axis=1) #get rid of geographical information\n"
   ]
  },
  {
   "cell_type": "code",
   "execution_count": null,
   "id": "46baa01d",
   "metadata": {
    "scrolled": true
   },
   "outputs": [],
   "source": [
    "deathcausebyyear = deathcause.groupby(\"Year\").sum() # groups data by year in rows \n",
    "display(deathcausebyyear)"
   ]
  },
  {
   "cell_type": "code",
   "execution_count": null,
   "id": "98104cf7",
   "metadata": {
    "scrolled": true
   },
   "outputs": [],
   "source": [
    "deathcausefinal =deathcausebyyear.transpose(copy=False) #transpose matrix for easier manipulation\n",
    "display(deathcausefinal)"
   ]
  },
  {
   "cell_type": "code",
   "execution_count": null,
   "id": "30042684",
   "metadata": {
    "scrolled": true
   },
   "outputs": [],
   "source": [
    "deathcausefinal_copy = deathcausefinal.copy() \n",
    "deathcausefinal_copy['rank2019'] = deathcausefinal_copy[2019].rank(ascending=False) #ranks causes of death based on year studied (here 2019)\n",
    "deathcausefinal_copy"
   ]
  },
  {
   "cell_type": "code",
   "execution_count": null,
   "id": "97347f79",
   "metadata": {
    "scrolled": true
   },
   "outputs": [],
   "source": [
    "deathcausefinal_copy.sort_values(by=2019, axis=0, ascending=False, inplace=True) #sorts data based on that order"
   ]
  },
  {
   "cell_type": "code",
   "execution_count": null,
   "id": "d9ca9ff0",
   "metadata": {},
   "outputs": [],
   "source": [
    "deathcausefinal_copy['percentage'] = deathcausefinal_copy[2019]/deathcausefinal_copy[2019].sum() #determine weight of each death cause\n",
    "display(deathcausefinal_copy)"
   ]
  },
  {
   "cell_type": "code",
   "execution_count": null,
   "id": "a74e86ae",
   "metadata": {
    "scrolled": true
   },
   "outputs": [],
   "source": [
    "deathcause_used = deathcausefinal_copy.head(10) #retains the top 10 causes of deaths based on weight\n",
    "display(deathcause_used)"
   ]
  },
  {
   "cell_type": "code",
   "execution_count": null,
   "id": "78120548",
   "metadata": {},
   "outputs": [],
   "source": [
    "ax = deathcause_used.plot.barh(y=\"percentage\") #plots the graph"
   ]
  },
  {
   "cell_type": "code",
   "execution_count": null,
   "id": "fcdc59c6",
   "metadata": {},
   "outputs": [],
   "source": []
  }
 ],
 "metadata": {
  "kernelspec": {
   "display_name": "Python 3 (ipykernel)",
   "language": "python",
   "name": "python3"
  },
  "language_info": {
   "codemirror_mode": {
    "name": "ipython",
    "version": 3
   },
   "file_extension": ".py",
   "mimetype": "text/x-python",
   "name": "python",
   "nbconvert_exporter": "python",
   "pygments_lexer": "ipython3",
   "version": "3.9.13"
  }
 },
 "nbformat": 4,
 "nbformat_minor": 5
}
