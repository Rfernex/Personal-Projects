{
 "cells": [
  {
   "cell_type": "markdown",
   "id": "e883fa5a",
   "metadata": {
    "scrolled": false
   },
   "source": [
    "# Importing the dataset"
   ]
  },
  {
   "cell_type": "code",
   "execution_count": 11,
   "id": "3453e41d",
   "metadata": {},
   "outputs": [
    {
     "ename": "FileNotFoundError",
     "evalue": "[Errno 2] No such file or directory: './Macrodata_raw.csv'",
     "output_type": "error",
     "traceback": [
      "\u001b[0;31m---------------------------------------------------------------------------\u001b[0m",
      "\u001b[0;31mFileNotFoundError\u001b[0m                         Traceback (most recent call last)",
      "Cell \u001b[0;32mIn[11], line 14\u001b[0m\n\u001b[1;32m     11\u001b[0m \u001b[38;5;28;01mfrom\u001b[39;00m \u001b[38;5;21;01msklearn\u001b[39;00m\u001b[38;5;21;01m.\u001b[39;00m\u001b[38;5;21;01mdecomposition\u001b[39;00m \u001b[38;5;28;01mimport\u001b[39;00m PCA\n\u001b[1;32m     12\u001b[0m \u001b[38;5;28;01mimport\u001b[39;00m \u001b[38;5;21;01mstatsmodels\u001b[39;00m\u001b[38;5;21;01m.\u001b[39;00m\u001b[38;5;21;01mapi\u001b[39;00m \u001b[38;5;28;01mas\u001b[39;00m \u001b[38;5;21;01msm\u001b[39;00m\n\u001b[0;32m---> 14\u001b[0m df \u001b[38;5;241m=\u001b[39m pd\u001b[38;5;241m.\u001b[39mread_csv(\u001b[38;5;124m'\u001b[39m\u001b[38;5;124m./Macrodata_raw.csv\u001b[39m\u001b[38;5;124m'\u001b[39m)\n\u001b[1;32m     15\u001b[0m df\u001b[38;5;241m.\u001b[39mdrop([\u001b[38;5;124m\"\u001b[39m\u001b[38;5;124mRegime\u001b[39m\u001b[38;5;124m\"\u001b[39m,\u001b[38;5;124m\"\u001b[39m\u001b[38;5;124mUnnamed: 0\u001b[39m\u001b[38;5;124m\"\u001b[39m], axis\u001b[38;5;241m=\u001b[39m\u001b[38;5;241m1\u001b[39m, inplace \u001b[38;5;241m=\u001b[39m \u001b[38;5;28;01mTrue\u001b[39;00m)\n",
      "File \u001b[0;32m~/Documents/Education/SciencesPo/Courses/CSS/Coding_Softwares/anaconda3/lib/python3.12/site-packages/pandas/io/parsers/readers.py:1026\u001b[0m, in \u001b[0;36mread_csv\u001b[0;34m(filepath_or_buffer, sep, delimiter, header, names, index_col, usecols, dtype, engine, converters, true_values, false_values, skipinitialspace, skiprows, skipfooter, nrows, na_values, keep_default_na, na_filter, verbose, skip_blank_lines, parse_dates, infer_datetime_format, keep_date_col, date_parser, date_format, dayfirst, cache_dates, iterator, chunksize, compression, thousands, decimal, lineterminator, quotechar, quoting, doublequote, escapechar, comment, encoding, encoding_errors, dialect, on_bad_lines, delim_whitespace, low_memory, memory_map, float_precision, storage_options, dtype_backend)\u001b[0m\n\u001b[1;32m   1013\u001b[0m kwds_defaults \u001b[38;5;241m=\u001b[39m _refine_defaults_read(\n\u001b[1;32m   1014\u001b[0m     dialect,\n\u001b[1;32m   1015\u001b[0m     delimiter,\n\u001b[0;32m   (...)\u001b[0m\n\u001b[1;32m   1022\u001b[0m     dtype_backend\u001b[38;5;241m=\u001b[39mdtype_backend,\n\u001b[1;32m   1023\u001b[0m )\n\u001b[1;32m   1024\u001b[0m kwds\u001b[38;5;241m.\u001b[39mupdate(kwds_defaults)\n\u001b[0;32m-> 1026\u001b[0m \u001b[38;5;28;01mreturn\u001b[39;00m _read(filepath_or_buffer, kwds)\n",
      "File \u001b[0;32m~/Documents/Education/SciencesPo/Courses/CSS/Coding_Softwares/anaconda3/lib/python3.12/site-packages/pandas/io/parsers/readers.py:620\u001b[0m, in \u001b[0;36m_read\u001b[0;34m(filepath_or_buffer, kwds)\u001b[0m\n\u001b[1;32m    617\u001b[0m _validate_names(kwds\u001b[38;5;241m.\u001b[39mget(\u001b[38;5;124m\"\u001b[39m\u001b[38;5;124mnames\u001b[39m\u001b[38;5;124m\"\u001b[39m, \u001b[38;5;28;01mNone\u001b[39;00m))\n\u001b[1;32m    619\u001b[0m \u001b[38;5;66;03m# Create the parser.\u001b[39;00m\n\u001b[0;32m--> 620\u001b[0m parser \u001b[38;5;241m=\u001b[39m TextFileReader(filepath_or_buffer, \u001b[38;5;241m*\u001b[39m\u001b[38;5;241m*\u001b[39mkwds)\n\u001b[1;32m    622\u001b[0m \u001b[38;5;28;01mif\u001b[39;00m chunksize \u001b[38;5;129;01mor\u001b[39;00m iterator:\n\u001b[1;32m    623\u001b[0m     \u001b[38;5;28;01mreturn\u001b[39;00m parser\n",
      "File \u001b[0;32m~/Documents/Education/SciencesPo/Courses/CSS/Coding_Softwares/anaconda3/lib/python3.12/site-packages/pandas/io/parsers/readers.py:1620\u001b[0m, in \u001b[0;36mTextFileReader.__init__\u001b[0;34m(self, f, engine, **kwds)\u001b[0m\n\u001b[1;32m   1617\u001b[0m     \u001b[38;5;28mself\u001b[39m\u001b[38;5;241m.\u001b[39moptions[\u001b[38;5;124m\"\u001b[39m\u001b[38;5;124mhas_index_names\u001b[39m\u001b[38;5;124m\"\u001b[39m] \u001b[38;5;241m=\u001b[39m kwds[\u001b[38;5;124m\"\u001b[39m\u001b[38;5;124mhas_index_names\u001b[39m\u001b[38;5;124m\"\u001b[39m]\n\u001b[1;32m   1619\u001b[0m \u001b[38;5;28mself\u001b[39m\u001b[38;5;241m.\u001b[39mhandles: IOHandles \u001b[38;5;241m|\u001b[39m \u001b[38;5;28;01mNone\u001b[39;00m \u001b[38;5;241m=\u001b[39m \u001b[38;5;28;01mNone\u001b[39;00m\n\u001b[0;32m-> 1620\u001b[0m \u001b[38;5;28mself\u001b[39m\u001b[38;5;241m.\u001b[39m_engine \u001b[38;5;241m=\u001b[39m \u001b[38;5;28mself\u001b[39m\u001b[38;5;241m.\u001b[39m_make_engine(f, \u001b[38;5;28mself\u001b[39m\u001b[38;5;241m.\u001b[39mengine)\n",
      "File \u001b[0;32m~/Documents/Education/SciencesPo/Courses/CSS/Coding_Softwares/anaconda3/lib/python3.12/site-packages/pandas/io/parsers/readers.py:1880\u001b[0m, in \u001b[0;36mTextFileReader._make_engine\u001b[0;34m(self, f, engine)\u001b[0m\n\u001b[1;32m   1878\u001b[0m     \u001b[38;5;28;01mif\u001b[39;00m \u001b[38;5;124m\"\u001b[39m\u001b[38;5;124mb\u001b[39m\u001b[38;5;124m\"\u001b[39m \u001b[38;5;129;01mnot\u001b[39;00m \u001b[38;5;129;01min\u001b[39;00m mode:\n\u001b[1;32m   1879\u001b[0m         mode \u001b[38;5;241m+\u001b[39m\u001b[38;5;241m=\u001b[39m \u001b[38;5;124m\"\u001b[39m\u001b[38;5;124mb\u001b[39m\u001b[38;5;124m\"\u001b[39m\n\u001b[0;32m-> 1880\u001b[0m \u001b[38;5;28mself\u001b[39m\u001b[38;5;241m.\u001b[39mhandles \u001b[38;5;241m=\u001b[39m get_handle(\n\u001b[1;32m   1881\u001b[0m     f,\n\u001b[1;32m   1882\u001b[0m     mode,\n\u001b[1;32m   1883\u001b[0m     encoding\u001b[38;5;241m=\u001b[39m\u001b[38;5;28mself\u001b[39m\u001b[38;5;241m.\u001b[39moptions\u001b[38;5;241m.\u001b[39mget(\u001b[38;5;124m\"\u001b[39m\u001b[38;5;124mencoding\u001b[39m\u001b[38;5;124m\"\u001b[39m, \u001b[38;5;28;01mNone\u001b[39;00m),\n\u001b[1;32m   1884\u001b[0m     compression\u001b[38;5;241m=\u001b[39m\u001b[38;5;28mself\u001b[39m\u001b[38;5;241m.\u001b[39moptions\u001b[38;5;241m.\u001b[39mget(\u001b[38;5;124m\"\u001b[39m\u001b[38;5;124mcompression\u001b[39m\u001b[38;5;124m\"\u001b[39m, \u001b[38;5;28;01mNone\u001b[39;00m),\n\u001b[1;32m   1885\u001b[0m     memory_map\u001b[38;5;241m=\u001b[39m\u001b[38;5;28mself\u001b[39m\u001b[38;5;241m.\u001b[39moptions\u001b[38;5;241m.\u001b[39mget(\u001b[38;5;124m\"\u001b[39m\u001b[38;5;124mmemory_map\u001b[39m\u001b[38;5;124m\"\u001b[39m, \u001b[38;5;28;01mFalse\u001b[39;00m),\n\u001b[1;32m   1886\u001b[0m     is_text\u001b[38;5;241m=\u001b[39mis_text,\n\u001b[1;32m   1887\u001b[0m     errors\u001b[38;5;241m=\u001b[39m\u001b[38;5;28mself\u001b[39m\u001b[38;5;241m.\u001b[39moptions\u001b[38;5;241m.\u001b[39mget(\u001b[38;5;124m\"\u001b[39m\u001b[38;5;124mencoding_errors\u001b[39m\u001b[38;5;124m\"\u001b[39m, \u001b[38;5;124m\"\u001b[39m\u001b[38;5;124mstrict\u001b[39m\u001b[38;5;124m\"\u001b[39m),\n\u001b[1;32m   1888\u001b[0m     storage_options\u001b[38;5;241m=\u001b[39m\u001b[38;5;28mself\u001b[39m\u001b[38;5;241m.\u001b[39moptions\u001b[38;5;241m.\u001b[39mget(\u001b[38;5;124m\"\u001b[39m\u001b[38;5;124mstorage_options\u001b[39m\u001b[38;5;124m\"\u001b[39m, \u001b[38;5;28;01mNone\u001b[39;00m),\n\u001b[1;32m   1889\u001b[0m )\n\u001b[1;32m   1890\u001b[0m \u001b[38;5;28;01massert\u001b[39;00m \u001b[38;5;28mself\u001b[39m\u001b[38;5;241m.\u001b[39mhandles \u001b[38;5;129;01mis\u001b[39;00m \u001b[38;5;129;01mnot\u001b[39;00m \u001b[38;5;28;01mNone\u001b[39;00m\n\u001b[1;32m   1891\u001b[0m f \u001b[38;5;241m=\u001b[39m \u001b[38;5;28mself\u001b[39m\u001b[38;5;241m.\u001b[39mhandles\u001b[38;5;241m.\u001b[39mhandle\n",
      "File \u001b[0;32m~/Documents/Education/SciencesPo/Courses/CSS/Coding_Softwares/anaconda3/lib/python3.12/site-packages/pandas/io/common.py:873\u001b[0m, in \u001b[0;36mget_handle\u001b[0;34m(path_or_buf, mode, encoding, compression, memory_map, is_text, errors, storage_options)\u001b[0m\n\u001b[1;32m    868\u001b[0m \u001b[38;5;28;01melif\u001b[39;00m \u001b[38;5;28misinstance\u001b[39m(handle, \u001b[38;5;28mstr\u001b[39m):\n\u001b[1;32m    869\u001b[0m     \u001b[38;5;66;03m# Check whether the filename is to be opened in binary mode.\u001b[39;00m\n\u001b[1;32m    870\u001b[0m     \u001b[38;5;66;03m# Binary mode does not support 'encoding' and 'newline'.\u001b[39;00m\n\u001b[1;32m    871\u001b[0m     \u001b[38;5;28;01mif\u001b[39;00m ioargs\u001b[38;5;241m.\u001b[39mencoding \u001b[38;5;129;01mand\u001b[39;00m \u001b[38;5;124m\"\u001b[39m\u001b[38;5;124mb\u001b[39m\u001b[38;5;124m\"\u001b[39m \u001b[38;5;129;01mnot\u001b[39;00m \u001b[38;5;129;01min\u001b[39;00m ioargs\u001b[38;5;241m.\u001b[39mmode:\n\u001b[1;32m    872\u001b[0m         \u001b[38;5;66;03m# Encoding\u001b[39;00m\n\u001b[0;32m--> 873\u001b[0m         handle \u001b[38;5;241m=\u001b[39m \u001b[38;5;28mopen\u001b[39m(\n\u001b[1;32m    874\u001b[0m             handle,\n\u001b[1;32m    875\u001b[0m             ioargs\u001b[38;5;241m.\u001b[39mmode,\n\u001b[1;32m    876\u001b[0m             encoding\u001b[38;5;241m=\u001b[39mioargs\u001b[38;5;241m.\u001b[39mencoding,\n\u001b[1;32m    877\u001b[0m             errors\u001b[38;5;241m=\u001b[39merrors,\n\u001b[1;32m    878\u001b[0m             newline\u001b[38;5;241m=\u001b[39m\u001b[38;5;124m\"\u001b[39m\u001b[38;5;124m\"\u001b[39m,\n\u001b[1;32m    879\u001b[0m         )\n\u001b[1;32m    880\u001b[0m     \u001b[38;5;28;01melse\u001b[39;00m:\n\u001b[1;32m    881\u001b[0m         \u001b[38;5;66;03m# Binary mode\u001b[39;00m\n\u001b[1;32m    882\u001b[0m         handle \u001b[38;5;241m=\u001b[39m \u001b[38;5;28mopen\u001b[39m(handle, ioargs\u001b[38;5;241m.\u001b[39mmode)\n",
      "\u001b[0;31mFileNotFoundError\u001b[0m: [Errno 2] No such file or directory: './Macrodata_raw.csv'"
     ]
    }
   ],
   "source": [
    "import pandas as pd\n",
    "import numpy as np\n",
    "import seaborn as sns\n",
    "import matplotlib.pyplot as plt\n",
    "import scipy.stats\n",
    "from statsmodels.stats.outliers_influence import variance_inflation_factor\n",
    "from statsmodels.tools.tools import add_constant\n",
    "from sklearn.metrics import ConfusionMatrixDisplay\n",
    "from sklearn.datasets import make_classification\n",
    "from sklearn import svm\n",
    "from sklearn.decomposition import PCA\n",
    "import statsmodels.api as sm\n",
    "\n",
    "df = pd.read_csv('./Macrodata_raw.csv')\n",
    "df.drop([\"Regime\",\"Unnamed: 0\"], axis=1, inplace = True) #gets rid of column with string value for recession indicator"
   ]
  },
  {
   "cell_type": "code",
   "execution_count": null,
   "id": "a68603bb",
   "metadata": {
    "scrolled": true
   },
   "outputs": [],
   "source": [
    "first_column = df.pop(\"Regime in 0 = Normal & 1 = Recession\") #moves the dependent variable column to the beginning of the data table\n",
    "df.insert(0, \"Regime in 0 = Normal & 1 = Recession\", first_column)"
   ]
  },
  {
   "cell_type": "code",
   "execution_count": null,
   "id": "e1190f7a",
   "metadata": {
    "scrolled": true
   },
   "outputs": [],
   "source": [
    "variables_tested = df.drop(labels=[\"Regime in 0 = Normal & 1 = Recession\"], axis=1)   # new object for colinearity \n",
    "variables_tested.head() "
   ]
  },
  {
   "cell_type": "markdown",
   "id": "998d1716",
   "metadata": {},
   "source": [
    "# Scaling"
   ]
  },
  {
   "cell_type": "code",
   "execution_count": null,
   "id": "c1921a66",
   "metadata": {
    "scrolled": true
   },
   "outputs": [],
   "source": [
    "from sklearn.preprocessing import StandardScaler #scales the variables\n",
    "sample = pd.DataFrame(StandardScaler().fit(variables_tested).transform(variables_tested))\n",
    "sample.head()"
   ]
  },
  {
   "cell_type": "markdown",
   "id": "12201cc8",
   "metadata": {},
   "source": [
    "# Method 1 : VIF check"
   ]
  },
  {
   "cell_type": "code",
   "execution_count": null,
   "id": "36b029ca",
   "metadata": {},
   "outputs": [],
   "source": [
    "sample.drop(sample.iloc[:,[32,33,18,22,6,8,1,7,11,26,27,36,38,19,20,5,0,10,13,12,4,2,9,24,14,25,35,16,17,23,28,29,30,31,37]],axis = 1, inplace=True) #drops the columns that create a bias in the VIF"
   ]
  },
  {
   "cell_type": "code",
   "execution_count": null,
   "id": "dd2d24bf",
   "metadata": {},
   "outputs": [],
   "source": [
    "M_Output = add_constant(sample)\n",
    "VIF_list=pd.Series([variance_inflation_factor(M_Output, i)\n",
    "for i in range(M_Output.shape[1])], index = M_Output.columns)\n",
    "VIF_list.sort_values(ascending=False) #calculates the VIFs and show them in descending order "
   ]
  },
  {
   "cell_type": "code",
   "execution_count": null,
   "id": "28257d06",
   "metadata": {},
   "outputs": [],
   "source": [
    "sns.pairplot(M_Output) #correlation matrix with scatter plots \n",
    "plt.show()\n",
    "plt.close()"
   ]
  },
  {
   "cell_type": "code",
   "execution_count": null,
   "id": "c48e551d",
   "metadata": {},
   "outputs": [],
   "source": [
    "X=M_Output\n",
    "y=df[\"Regime in 0 = Normal & 1 = Recession\"]"
   ]
  },
  {
   "cell_type": "markdown",
   "id": "ac5391d2",
   "metadata": {},
   "source": [
    "# Train/Test split "
   ]
  },
  {
   "cell_type": "code",
   "execution_count": null,
   "id": "cb91044e",
   "metadata": {},
   "outputs": [],
   "source": [
    "from sklearn.model_selection import train_test_split\n",
    "X_train, X_test, y_train, y_test = train_test_split(X, y, random_state=0, train_size = .6, stratify=y)\n",
    "print(X_train.size) #train and test split\n",
    "print(X_test.size)"
   ]
  },
  {
   "cell_type": "code",
   "execution_count": null,
   "id": "934b3278",
   "metadata": {},
   "outputs": [],
   "source": [
    "print('Observations in train data:', len(X_train))\n",
    "print('Observations in test data:', len(X_test))"
   ]
  },
  {
   "cell_type": "code",
   "execution_count": null,
   "id": "28904dd7",
   "metadata": {},
   "outputs": [],
   "source": [
    "Data_for_MLR=pd.concat([X_train, y_train], axis=1)\n",
    "Data_for_MLR #matrix we use for the multiple logistic regression"
   ]
  },
  {
   "cell_type": "code",
   "execution_count": null,
   "id": "1a030444",
   "metadata": {},
   "outputs": [],
   "source": [
    "Data_for_MLR.columns =['constant', 'ISRATIO', 'DTCTHFNM', 'EXUSUK',\"SP500\",\"NASDAQ\",\"GOLDBAR\",\"P/E\",\"Dividend Yield\",\"Recession_Index\"] "
   ]
  },
  {
   "cell_type": "code",
   "execution_count": null,
   "id": "21f9a6ec",
   "metadata": {},
   "outputs": [],
   "source": [
    "Xtrain = Data_for_MLR.drop(\"Recession_Index\", axis = 1)\n",
    "ytrain = Data_for_MLR[\"Recession_Index\"]"
   ]
  },
  {
   "cell_type": "markdown",
   "id": "d4faa084",
   "metadata": {},
   "source": [
    "# Multiple logistic regression"
   ]
  },
  {
   "cell_type": "code",
   "execution_count": null,
   "id": "61a44fbe",
   "metadata": {
    "scrolled": true
   },
   "outputs": [],
   "source": [
    "log_reg = sm.Logit(ytrain, Xtrain).fit()\n",
    "print(log_reg.summary())\n",
    "print(log_reg.params)"
   ]
  },
  {
   "cell_type": "markdown",
   "id": "64951127",
   "metadata": {},
   "source": [
    "# Odds ratio"
   ]
  },
  {
   "cell_type": "code",
   "execution_count": null,
   "id": "d46e02b8",
   "metadata": {},
   "outputs": [],
   "source": [
    "ExpBeta=np.exp(log_reg.params)\n",
    "ExpBeta"
   ]
  },
  {
   "cell_type": "markdown",
   "id": "f343e6de",
   "metadata": {},
   "source": [
    "# Method 2 : PCA"
   ]
  },
  {
   "cell_type": "code",
   "execution_count": null,
   "id": "18e7ee05",
   "metadata": {},
   "outputs": [],
   "source": [
    "Non_Financial_idx =variables_tested[[\"UNRATE\",\"USGOOD\",\"USTPU\",\"PAYEMS\",\"RPI\", \"INDPRO\",\"HOUST\",\"PERMIT\", \"DPCERA3M086SBEA\",\"AMTMNO\", \"AMTMTI\"\n",
    "                                ,\"AMDMUO\", \"ACOGNO\", \"BUSINV\", \"ISRATIO\"]]\n",
    "Financial_idx = variables_tested[[\"M1SL\",\"M2SL\", \"TOTRESNS\", \"BUSLOANS\", \"REALLN\", \"DTCTHFNM\", \"FEDFUNDS\", \"TB6MS\", \"GS5\"\n",
    "                             , \"GS10\", \"EXSZUS\", \"EXCAUS\", \"EXUSUK\", \"WPSFD49207\", \"WPSID61\", \"CPIAUCSL\",\"SP500\",\"NASDAQ\", \"GOLDBAR\", \"P/E\", \"Dividend Yield\" ]]\n",
    "pca = PCA(n_components=8)\n",
    "PCA_NFI = pca.fit_transform(Non_Financial_idx)\n",
    "PCA_NFI = pd.DataFrame(PCA_NFI)\n",
    "pca = PCA(n_components=8)\n",
    "PCA_FI = pca.fit_transform(Financial_idx)\n",
    "PCA_FI = pd.DataFrame(PCA_FI)"
   ]
  },
  {
   "cell_type": "code",
   "execution_count": null,
   "id": "f047b10a",
   "metadata": {},
   "outputs": [],
   "source": [
    "X2=pd.concat([PCA_FI,PCA_NFI],axis=1)\n",
    "y2=df[\"Regime in 0 = Normal & 1 = Recession\"]\n",
    "from sklearn.model_selection import train_test_split\n",
    "X2_train, X2_test, y2_train, y2_test = train_test_split(X2, y2, random_state=0, train_size = .6, stratify=y2)\n",
    "Data_for_MLR=pd.concat([X2_train, y2_train], axis=1)"
   ]
  },
  {
   "cell_type": "code",
   "execution_count": null,
   "id": "ef21fb4b",
   "metadata": {},
   "outputs": [],
   "source": [
    "import statsmodels.api as sm\n",
    "X2train = Data_for_MLR.drop(\"Regime in 0 = Normal & 1 = Recession\", axis = 1)\n",
    "y2train = Data_for_MLR[\"Regime in 0 = Normal & 1 = Recession\"]\n",
    "log_reg2 = sm.Logit(y2train, X2train).fit()"
   ]
  },
  {
   "cell_type": "code",
   "execution_count": null,
   "id": "003264bd",
   "metadata": {},
   "outputs": [],
   "source": [
    "print(log_reg2.summary())\n",
    "ExpBeta2=np.exp(log_reg2.params)\n",
    "ExpBeta2"
   ]
  },
  {
   "cell_type": "markdown",
   "id": "97432021",
   "metadata": {},
   "source": [
    "# ROC curves"
   ]
  },
  {
   "cell_type": "code",
   "execution_count": null,
   "id": "70abbe85",
   "metadata": {},
   "outputs": [],
   "source": [
    "#define metrics\n",
    "Y_pred_prob = log_reg.predict(X_test)\n",
    "fpr, tpr, _ = metrics.roc_curve(y_test,  Y_pred_prob)\n",
    "Y2_pred_prob = log_reg2.predict(X2_test)\n",
    "fpr2, tpr2, _ = metrics.roc_curve(y2_test,  Y2_pred_prob)\n",
    "\n",
    "#create ROC curve\n",
    "plt.plot(fpr, tpr, 'r', label = \"VIF method\") # plotting t, a separately \n",
    "plt.plot(fpr2, tpr2, 'b', label = \"PCA method\") # plotting t, b separately \n",
    "plt.legend(loc=\"lower right\")\n",
    "plt.ylabel('True Positive Rate')\n",
    "plt.xlabel('False Positive Rate')\n",
    "plt.show()\n"
   ]
  }
 ],
 "metadata": {
  "kernelspec": {
   "display_name": "Python [conda env:base] *",
   "language": "python",
   "name": "conda-base-py"
  },
  "language_info": {
   "codemirror_mode": {
    "name": "ipython",
    "version": 3
   },
   "file_extension": ".py",
   "mimetype": "text/x-python",
   "name": "python",
   "nbconvert_exporter": "python",
   "pygments_lexer": "ipython3",
   "version": "3.12.7"
  }
 },
 "nbformat": 4,
 "nbformat_minor": 5
}
