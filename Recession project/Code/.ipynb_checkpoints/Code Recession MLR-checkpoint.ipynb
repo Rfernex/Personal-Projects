{
 "cells": [
  {
   "cell_type": "markdown",
   "id": "e883fa5a",
   "metadata": {
    "scrolled": false
   },
   "source": [
    "# importing the dataset"
   ]
  },
  {
   "cell_type": "code",
   "execution_count": null,
   "id": "3453e41d",
   "metadata": {},
   "outputs": [],
   "source": [
    "import pandas as pd\n",
    "import numpy as np\n",
    "import seaborn as sns\n",
    "import matplotlib.pyplot as plt\n",
    "import scipy.stats\n",
    "from statsmodels.stats.outliers_influence import variance_inflation_factor\n",
    "from statsmodels.tools.tools import add_constant\n",
    "from sklearn.metrics import ConfusionMatrixDisplay\n",
    "from sklearn.datasets import make_classification\n",
    "from sklearn import svm\n",
    "from sklearn.decomposition import PCA\n",
    "\n",
    "df = pd.read_csv('./Macrodata_raw.csv')\n",
    "df.drop([\"Regime\",\"Unnamed: 0\"], axis=1, inplace = True) #gets rid of column with string value for recession indicator"
   ]
  },
  {
   "cell_type": "code",
   "execution_count": null,
   "id": "a68603bb",
   "metadata": {
    "scrolled": true
   },
   "outputs": [],
   "source": [
    "first_column = df.pop(\"Regime in 0 = Normal & 1 = Recession\") #moves the dependent variable column to the beginning of the data table\n",
    "df.insert(0, \"Regime in 0 = Normal & 1 = Recession\", first_column)"
   ]
  },
  {
   "cell_type": "code",
   "execution_count": null,
   "id": "e1190f7a",
   "metadata": {
    "scrolled": true
   },
   "outputs": [],
   "source": [
    "variables_tested = df.drop(labels=[\"Regime in 0 = Normal & 1 = Recession\"], axis=1)   # new object for colinearity \n",
    "variables_tested.head() "
   ]
  },
  {
   "cell_type": "markdown",
   "id": "998d1716",
   "metadata": {},
   "source": [
    "# Scaling"
   ]
  },
  {
   "cell_type": "code",
   "execution_count": null,
   "id": "c1921a66",
   "metadata": {
    "scrolled": true
   },
   "outputs": [],
   "source": [
    "from sklearn.preprocessing import StandardScaler #scales the variables\n",
    "sample = pd.DataFrame(StandardScaler().fit(variables_tested).transform(variables_tested))\n",
    "sample.head()"
   ]
  },
  {
   "cell_type": "markdown",
   "id": "12201cc8",
   "metadata": {},
   "source": [
    "# method 1 : VIF check"
   ]
  },
  {
   "cell_type": "code",
   "execution_count": null,
   "id": "36b029ca",
   "metadata": {},
   "outputs": [],
   "source": [
    "sample.drop(sample.iloc[:,[32,33,18,22,6,8,1,7,11,26,27,36,38,19,20,5,0,10,13,12,4,2,9,24,14,25,35,16,17,23,28,29,30,31,37]],axis = 1, inplace=True) #drops the columns that create a bias in the VIF"
   ]
  },
  {
   "cell_type": "code",
   "execution_count": null,
   "id": "dd2d24bf",
   "metadata": {},
   "outputs": [],
   "source": [
    "M_Output = add_constant(sample)\n",
    "VIF_list=pd.Series([variance_inflation_factor(M_Output, i)\n",
    "for i in range(M_Output.shape[1])], index = M_Output.columns)\n",
    "VIF_list.sort_values(ascending=False) #calculates the VIFs and show them in descending order "
   ]
  },
  {
   "cell_type": "code",
   "execution_count": null,
   "id": "28257d06",
   "metadata": {},
   "outputs": [],
   "source": [
    "sns.pairplot(M_Output) #correlation matrix with scatter plots \n",
    "plt.show()\n",
    "plt.close()"
   ]
  },
  {
   "cell_type": "code",
   "execution_count": null,
   "id": "c48e551d",
   "metadata": {},
   "outputs": [],
   "source": [
    "X=M_Output\n",
    "y=df[\"Regime in 0 = Normal & 1 = Recession\"]"
   ]
  },
  {
   "cell_type": "markdown",
   "id": "ac5391d2",
   "metadata": {},
   "source": [
    "# train and test split "
   ]
  },
  {
   "cell_type": "code",
   "execution_count": null,
   "id": "cb91044e",
   "metadata": {},
   "outputs": [],
   "source": [
    "from sklearn.model_selection import train_test_split\n",
    "X_train, X_test, y_train, y_test = train_test_split(X, y, random_state=0, train_size = .6, stratify=y)\n",
    "print(X_train.size) #train and test split\n",
    "print(X_test.size)"
   ]
  },
  {
   "cell_type": "code",
   "execution_count": null,
   "id": "934b3278",
   "metadata": {},
   "outputs": [],
   "source": [
    "print('Observations in train data:', len(X_train))\n",
    "print('Observations in test data:', len(X_test))"
   ]
  },
  {
   "cell_type": "code",
   "execution_count": null,
   "id": "28904dd7",
   "metadata": {},
   "outputs": [],
   "source": [
    "Data_for_MLR=pd.concat([X_train, y_train], axis=1)\n",
    "Data_for_MLR #matrix we use for the multiple logistic regression"
   ]
  },
  {
   "cell_type": "code",
   "execution_count": null,
   "id": "1a030444",
   "metadata": {},
   "outputs": [],
   "source": [
    "Data_for_MLR.columns =['constant', 'ISRATIO', 'DTCTHFNM', 'EXUSUK',\"SP500\",\"NASDAQ\",\"GOLDBAR\",\"P/E\",\"Dividend Yield\",\"Recession_Index\"] "
   ]
  },
  {
   "cell_type": "code",
   "execution_count": null,
   "id": "21f9a6ec",
   "metadata": {},
   "outputs": [],
   "source": [
    "import statsmodels.api as sm\n",
    "Xtrain = Data_for_MLR.drop(\"Recession_Index\", axis = 1)\n",
    "ytrain = Data_for_MLR[\"Recession_Index\"]"
   ]
  },
  {
   "cell_type": "markdown",
   "id": "d4faa084",
   "metadata": {},
   "source": [
    "# Multiple logistic regression"
   ]
  },
  {
   "cell_type": "code",
   "execution_count": null,
   "id": "61a44fbe",
   "metadata": {
    "scrolled": true
   },
   "outputs": [],
   "source": [
    "log_reg = sm.Logit(ytrain, Xtrain).fit()"
   ]
  },
  {
   "cell_type": "code",
   "execution_count": null,
   "id": "c6a601a1",
   "metadata": {},
   "outputs": [],
   "source": [
    "print(log_reg.summary())"
   ]
  },
  {
   "cell_type": "code",
   "execution_count": null,
   "id": "6d69d52b",
   "metadata": {},
   "outputs": [],
   "source": [
    "print(log_reg.params)"
   ]
  },
  {
   "cell_type": "markdown",
   "id": "64951127",
   "metadata": {},
   "source": [
    "# Odds ratio"
   ]
  },
  {
   "cell_type": "code",
   "execution_count": null,
   "id": "d46e02b8",
   "metadata": {},
   "outputs": [],
   "source": [
    "ExpBeta=np.exp(log_reg.params)\n",
    "ExpBeta"
   ]
  },
  {
   "cell_type": "markdown",
   "id": "f343e6de",
   "metadata": {},
   "source": [
    "# method 2 : PCA"
   ]
  },
  {
   "cell_type": "code",
   "execution_count": null,
   "id": "18e7ee05",
   "metadata": {},
   "outputs": [],
   "source": [
    "Non_Financial_idx =variables_tested[[\"UNRATE\",\"USGOOD\",\"USTPU\",\"PAYEMS\",\"RPI\", \"INDPRO\",\"HOUST\",\"PERMIT\", \"DPCERA3M086SBEA\",\"AMTMNO\", \"AMTMTI\"\n",
    "                                ,\"AMDMUO\", \"ACOGNO\", \"BUSINV\", \"ISRATIO\"]]\n",
    "Financial_idx = variables_tested[[\"M1SL\",\"M2SL\", \"TOTRESNS\", \"BUSLOANS\", \"REALLN\", \"DTCTHFNM\", \"FEDFUNDS\", \"TB6MS\", \"GS5\"\n",
    "                             , \"GS10\", \"EXSZUS\", \"EXCAUS\", \"EXUSUK\", \"WPSFD49207\", \"WPSID61\", \"CPIAUCSL\",\"SP500\",\"NASDAQ\", \"GOLDBAR\", \"P/E\", \"Dividend Yield\" ]]\n",
    "pca = PCA(n_components=8)\n",
    "PCA_NFI = pca.fit_transform(Non_Financial_idx)\n",
    "PCA_NFI = pd.DataFrame(PCA_NFI)\n",
    "pca = PCA(n_components=8)\n",
    "PCA_FI = pca.fit_transform(Financial_idx)\n",
    "PCA_FI = pd.DataFrame(PCA_FI)"
   ]
  },
  {
   "cell_type": "code",
   "execution_count": null,
   "id": "f047b10a",
   "metadata": {},
   "outputs": [],
   "source": [
    "X2=pd.concat([PCA_FI,PCA_NFI],axis=1)\n",
    "y2=df[\"Regime in 0 = Normal & 1 = Recession\"]\n",
    "from sklearn.model_selection import train_test_split\n",
    "X2_train, X2_test, y2_train, y2_test = train_test_split(X2, y2, random_state=0, train_size = .6, stratify=y2)\n",
    "Data_for_MLR=pd.concat([X2_train, y2_train], axis=1)"
   ]
  },
  {
   "cell_type": "code",
   "execution_count": null,
   "id": "ef21fb4b",
   "metadata": {},
   "outputs": [],
   "source": [
    "import statsmodels.api as sm\n",
    "X2train = Data_for_MLR.drop(\"Regime in 0 = Normal & 1 = Recession\", axis = 1)\n",
    "y2train = Data_for_MLR[\"Regime in 0 = Normal & 1 = Recession\"]\n",
    "log_reg2 = sm.Logit(y2train, X2train).fit()"
   ]
  },
  {
   "cell_type": "code",
   "execution_count": null,
   "id": "003264bd",
   "metadata": {},
   "outputs": [],
   "source": [
    "print(log_reg2.summary())"
   ]
  },
  {
   "cell_type": "code",
   "execution_count": null,
   "id": "0b75888a",
   "metadata": {},
   "outputs": [],
   "source": [
    "ExpBeta2=np.exp(log_reg2.params)\n",
    "ExpBeta2"
   ]
  },
  {
   "cell_type": "markdown",
   "id": "97432021",
   "metadata": {},
   "source": [
    "# ROC curves"
   ]
  },
  {
   "cell_type": "code",
   "execution_count": null,
   "id": "70abbe85",
   "metadata": {},
   "outputs": [],
   "source": [
    "#define metrics\n",
    "Y_pred_prob = log_reg.predict(X_test)\n",
    "fpr, tpr, _ = metrics.roc_curve(y_test,  Y_pred_prob)\n",
    "Y2_pred_prob = log_reg2.predict(X2_test)\n",
    "fpr2, tpr2, _ = metrics.roc_curve(y2_test,  Y2_pred_prob)\n",
    "\n",
    "#create ROC curve\n",
    "plt.plot(fpr, tpr, 'r', label = \"VIF method\") # plotting t, a separately \n",
    "plt.plot(fpr2, tpr2, 'b', label = \"PCA method\") # plotting t, b separately \n",
    "plt.legend(loc=\"lower right\")\n",
    "plt.ylabel('True Positive Rate')\n",
    "plt.xlabel('False Positive Rate')\n",
    "plt.show()\n"
   ]
  },
  {
   "cell_type": "code",
   "execution_count": null,
   "id": "81a493d0-8c02-4d18-94ab-910b94ff89d7",
   "metadata": {},
   "outputs": [],
   "source": []
  },
  {
   "cell_type": "code",
   "execution_count": null,
   "id": "fcdd41e2-dcea-44c5-ac1a-beb7990af5b3",
   "metadata": {},
   "outputs": [],
   "source": []
  }
 ],
 "metadata": {
  "kernelspec": {
   "display_name": "Python [conda env:base] *",
   "language": "python",
   "name": "conda-base-py"
  },
  "language_info": {
   "codemirror_mode": {
    "name": "ipython",
    "version": 3
   },
   "file_extension": ".py",
   "mimetype": "text/x-python",
   "name": "python",
   "nbconvert_exporter": "python",
   "pygments_lexer": "ipython3",
   "version": "3.12.7"
  }
 },
 "nbformat": 4,
 "nbformat_minor": 5
}
